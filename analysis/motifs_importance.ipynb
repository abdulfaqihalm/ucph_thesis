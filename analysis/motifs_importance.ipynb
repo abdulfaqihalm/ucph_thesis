{
 "cells": [
  {
   "cell_type": "code",
   "execution_count": 1,
   "metadata": {},
   "outputs": [],
   "source": [
    "import torch\n",
    "import numpy as np\n",
    "import pandas as pd\n",
    "import matplotlib.pyplot as plt\n",
    "from torch import nn\n",
    "import sys\n",
    "sys.path.append(\"/binf-isilon/renniegrp/vpx267/ucph_thesis/\")\n",
    "from model import ConfigurableModel\n",
    "from wrapper import utils\n",
    "from wrapper.motifs_importance import forward_to_RELU_1, activation_pfm"
   ]
  },
  {
   "cell_type": "code",
   "execution_count": 2,
   "metadata": {},
   "outputs": [],
   "source": [
    "PROJECT_DIR = \"/binf-isilon/renniegrp/vpx267/ucph_thesis\""
   ]
  },
  {
   "cell_type": "code",
   "execution_count": null,
   "metadata": {},
   "outputs": [],
   "source": [
    "fixed_tune_config = {'lr': 0.001, 'weight_decay': 0.1, 'cnn_first_filter': 24, 'cnn_first_kernel_size': 7, 'cnn_length': 3, 'cnn_filter': 32, 'cnn_kernel_size': 7, 'bilstm_layer': 3, 'bilstm_hidden_size': 256, 'fc_size': 256}       \n",
    "model = ConfigurableModel(input_channel=4, cnn_first_filter=fixed_tune_config[\"cnn_first_filter\"], cnn_first_kernel_size=fixed_tune_config[\"cnn_first_kernel_size\"],\n",
    "                        cnn_other_filter=fixed_tune_config[\"cnn_filter\"], cnn_other_kernel_size=fixed_tune_config[\"cnn_kernel_size\"], bilstm_layer=fixed_tune_config[\"bilstm_layer\"], bilstm_hidden_size=fixed_tune_config[\"bilstm_hidden_size\"], fc_size=fixed_tune_config[\"fc_size\"],\n",
    "                        output_size=2)\n",
    "\n",
    "for fold in [1,2,3,4,5]:\n",
    "    model_weight = torch.load(f\"{PROJECT_DIR}/data/outputs/models/trained_model_{fold}th_fold_dual_outputs_m6A_info-no_promoter-False_fixed_tune.pkl\",\n",
    "                            map_location=torch.device('cpu'))\n",
    "    model.load_state_dict(model_weight)\n",
    "    model.eval()\n",
    "\n",
    "    seq_fasta_test_path = f\"{PROJECT_DIR}/data/dual_outputs/motif_fasta_test_SPLIT_{fold}.fasta\"\n",
    "    seq_fasta_one_hot = utils.create_seq_tensor(seq_fasta_test_path)\n",
    "\n",
    "    with torch.no_grad():\n",
    "        first_layer_result = forward_to_RELU_1(model, seq_fasta_one_hot)\n",
    "    print(\"extract kernel_size\")\n",
    "    kernel_size = model.CNN[0].kernel_size[0]\n",
    "\n",
    "    pfm, seqs_text, seqs_one_hot = activation_pfm(first_layer_result.transpose(1,2).detach().cpu(),\n",
    "                     seq_fasta_one_hot.transpose(1,2).detach().cpu(),\n",
    "                     window=fixed_tune_config[\"cnn_first_kernel_size\"])\n",
    "    # print(pfm.shape)\n",
    "\n",
    "    seq_dict = {f'filter_{i+1}': record for i, record in enumerate(seqs_text)}\n",
    "    np.savez(f\"motifs_importance/first_layer_fold_{fold}_seqs_fixed_tune.npz\", **seq_dict, allow_pickle = True)"
   ]
  }
 ],
 "metadata": {
  "kernelspec": {
   "display_name": "thesis_gpu",
   "language": "python",
   "name": "python3"
  },
  "language_info": {
   "codemirror_mode": {
    "name": "ipython",
    "version": 3
   },
   "file_extension": ".py",
   "mimetype": "text/x-python",
   "name": "python",
   "nbconvert_exporter": "python",
   "pygments_lexer": "ipython3",
   "version": "3.10.13"
  }
 },
 "nbformat": 4,
 "nbformat_minor": 2
}
