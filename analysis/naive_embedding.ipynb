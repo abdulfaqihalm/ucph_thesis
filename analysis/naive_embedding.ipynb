{
 "cells": [
  {
   "cell_type": "code",
   "execution_count": null,
   "metadata": {},
   "outputs": [],
   "source": [
    "import torch\n",
    "import torch.nn as nn\n",
    "import numpy as np\n",
    "import itertools\n",
    "\n",
    "# Function to generate random RNA sequences\n",
    "def generate_sample_sequences(num_sequences, sequence_length):\n",
    "    nucleotides = ['A', 'U', 'C', 'G']\n",
    "    return [''.join(np.random.choice(nucleotides, sequence_length)) for _ in range(num_sequences)]\n",
    "\n",
    "# Function to get 3-nt subsequences\n",
    "def get_3_nt_subsequences(sequence):\n",
    "    return [sequence[i:i+3] for i in range(len(sequence) - 2)]\n",
    "\n",
    "# Generate the sample sequences\n",
    "sample_sequences = generate_sample_sequences(num_sequences=100, sequence_length=1001)\n",
    "\n",
    "# Flatten the list of subsequences\n",
    "subsequences = list(itertools.chain.from_iterable(get_3_nt_subsequences(seq) for seq in sample_sequences))\n",
    "\n",
    "# Create a unique index for each subsequence\n",
    "unique_subsequences = set(subsequences)\n",
    "subseq_to_idx = {subseq: idx for idx, subseq in enumerate(unique_subsequences)}\n",
    "\n",
    "# Convert sequences into lists of indices\n",
    "sequences_of_indices = [[subseq_to_idx[subseq] for subseq in get_3_nt_subsequences(seq)] for seq in sample_sequences]\n",
    "\n",
    "# Create the embedding layer\n",
    "embedding_dim = 10  # Size of the embedding vector\n",
    "embedding_layer = nn.Embedding(num_embeddings=len(unique_subsequences), embedding_dim=embedding_dim)\n",
    "\n",
    "# Randomly initialize weights (for demonstration purposes; in practice they would be learned)\n",
    "embedding_layer.weight.data.uniform_(-0.1, 0.1)\n",
    "\n",
    "# Convert the padded_sequences to a tensor and pass through the embedding layer\n",
    "input_sequences = torch.LongTensor(padded_sequences)\n",
    "embeddings = embedding_layer(input_sequences)\n",
    "\n",
    "# Check the shape of the embeddings\n",
    "print(embeddings.shape)"
   ]
  }
 ],
 "metadata": {
  "language_info": {
   "name": "python"
  }
 },
 "nbformat": 4,
 "nbformat_minor": 2
}
